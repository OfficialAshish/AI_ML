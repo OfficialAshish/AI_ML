{
 "cells": [
  {
   "cell_type": "markdown",
   "metadata": {},
   "source": [
    "# A Quick Introduction to Matplotlib"
   ]
  },
  {
   "cell_type": "code",
   "execution_count": 1,
   "metadata": {},
   "outputs": [
    {
     "name": "stdout",
     "output_type": "stream",
     "text": [
      "Last updated: 2024-04-02 21:10:09.806286\n"
     ]
    }
   ],
   "source": [
    "import datetime\n",
    "print(f\"Last updated: {datetime.datetime.now()}\")"
   ]
  },
  {
   "cell_type": "markdown",
   "metadata": {},
   "source": [
    "## What is matplotlib?\n",
    "\n",
    "[Matplotlib](https://matplotlib.org) is a visualization library for Python.\n",
    "\n",
    "As in, if you want to display something in a chart or graph, matplotlib can help you do that programmatically.\n",
    "\n",
    "Many of the graphics you'll see in machine learning research papers or presentations are made with matplotlib.\n",
    "\n",
    "<img src=\"../images/matplotlib-6-step-ml-framework-tools-matplotlib-highlight.png\" alt=\"a 6 step machine learning framework along will tools you can use for each step\" width=\"700\"/>"
   ]
  },
  {
   "cell_type": "markdown",
   "metadata": {},
   "source": [
    "## Why matplotlib?\n",
    "\n",
    "Matplotlib is part of the standard Python data stack (pandas, NumPy, matplotlib, Jupyter).\n",
    "\n",
    "It has terrific integration with many other Python libraries.\n",
    "\n",
    "[pandas uses matplotlib as a backend](https://pandas.pydata.org/docs/user_guide/visualization.html) to help visualize data in DataFrames."
   ]
  },
  {
   "cell_type": "markdown",
   "metadata": {},
   "source": [
    "## What does this notebook cover?\n",
    "\n",
    "A central idea in matplotlib is the concept of a \"plot\" (hence the name).\n",
    "\n",
    "So we're going to practice making a series of different plots, which is a way to visually represent data.\n",
    "\n",
    "Since there are basically limitless ways to create a plot, we're going to focus on a making and customizing (making them look pretty) a few common types of plots."
   ]
  },
  {
   "cell_type": "markdown",
   "metadata": {},
   "source": [
    "## Where can I get help?\n",
    "\n",
    "If you get stuck or think of something you'd like to do which this notebook doesn't cover, don't fear!\n",
    "\n",
    "The recommended steps you take are:\n",
    "\n",
    "1. **Try it** - Since matplotlib is very friendly, your first step should be to use what you know and try figure out the answer to your own question (getting it wrong is part of the process). If in doubt, run your code.\n",
    "2. **Search for it** - If trying it on your own doesn't work, since someone else has probably tried to do something similar, try searching for your problem in the following places (either via a search engine or direct):\n",
    "    * [matplotlib documentation](https://matplotlib.org/stable/index.html) - the best place for learning all of the vast functionality of matplotlib. **Bonus:** You can see a series of [matplotlib cheatsheets on the matplotlib website](https://matplotlib.org/cheatsheets/).\n",
    "    * [Stack Overflow](https://stackoverflow.com/) - this is the developers Q&A hub, it's full of questions and answers of different problems across a wide range of software development topics and chances are, there's one related to your problem.\n",
    "    * [ChatGPT](https://chat.openai.com/) - ChatGPT is very good at explaining code, however, it can make mistakes. Best to verify the code it writes first before using it. Try asking \"Can you explain the following code for me? {your code here}\" and then continue with follow up questions from there.\n",
    "    \n",
    "An example of searching for a matplotlib feature might be:\n",
    "\n",
    "> \"how to colour the bars of a matplotlib plot\"\n",
    "\n",
    "Searching this on Google leads to this documentation page on the matplotlib website: https://matplotlib.org/stable/gallery/lines_bars_and_markers/bar_colors.html\n",
    "\n",
    "The next steps here are to read through the post and see if it relates to your problem. If it does, great, take the code/information you need and **rewrite it** to suit your own problem.\n",
    "\n",
    "3. **Ask for help** - If you've been through the above 2 steps and you're still stuck, you might want to ask your question on Stack Overflow or in the ZTM Discord chat. Remember to be specific as possible and provide details on what you've tried.\n",
    "\n",
    "Remember, you don't have to learn all of these functions off by heart to begin with. \n",
    "\n",
    "What's most important is remembering to continually ask yourself, \"what am I trying to visualize?\"\n",
    "\n",
    "Start by answering that question and then practicing finding the code which does it.\n",
    "\n",
    "Let's get to visualizing some data!"
   ]
  },
  {
   "cell_type": "markdown",
   "metadata": {},
   "source": [
    "## 0. Importing matplotlib\n",
    "\n",
    "We'll start by importing [`matplotlib.pyplot`](https://matplotlib.org/stable/tutorials/introductory/pyplot.html).\n",
    "\n",
    "Why `pyplot`?\n",
    "\n",
    "Because `pyplot` is a submodule for creating interactive plots programmatically.\n",
    "\n",
    "`pyplot` is often imported as the alias `plt`.\n",
    "\n",
    "> **Note:** In older notebooks and tutorials of matplotlib, you may see the magic command `%matplotlib inline`. This was required to view plots inside a notebook, however, as of 2020 it is mostly [no longer required](https://stackoverflow.com/questions/65934740/is-matplotlib-inline-still-needed)."
   ]
  },
  {
   "cell_type": "code",
   "execution_count": 2,
   "metadata": {},
   "outputs": [
    {
     "name": "stdout",
     "output_type": "stream",
     "text": [
      "matplotlib version: 3.7.2\n"
     ]
    }
   ],
   "source": [
    "# Older versions of Jupyter Notebooks and matplotlib required this magic command \n",
    "# %matplotlib inline\n",
    "\n",
    "# Import matplotlib and matplotlib.pyplot\n",
    "import matplotlib\n",
    "import matplotlib.pyplot as plt\n",
    "\n",
    "print(f\"matplotlib version: {matplotlib.__version__}\")"
   ]
  },
  {
   "cell_type": "markdown",
   "metadata": {},
   "source": [
    "## 1. 2 ways of creating plots\n",
    "\n",
    "There are two main ways of creating plots in matplotlib.\n",
    "\n",
    "1. `matplotlib.pyplot.plot()` - Recommended for simple plots (e.g. x and y).\n",
    "2. `matplotlib.pyplot.XX` (where XX can be one of many methods, this is known as the object-oriented API) - Recommended for more complex plots (for example [`plt.subplots()`](https://matplotlib.org/stable/api/_as_gen/matplotlib.pyplot.subplots.html#matplotlib.pyplot.subplots) to create multiple plots on the same Figure, we'll get to this later). \n",
    "\n",
    "Both of these methods are still often created by building off `import matplotlib.pyplot as plt` as a base.\n",
    "\n",
    "Let's start simple."
   ]
  },
  {
   "cell_type": "code",
   "execution_count": 3,
   "metadata": {},
   "outputs": [
    {
     "data": {
      "text/plain": [
       "[]"
      ]
     },
     "execution_count": 3,
     "metadata": {},
     "output_type": "execute_result"
    },
    {
     "data": {
      "image/png": "[encoded data removed]",
      "text/plain": [
       "<Figure size 640x480 with 1 Axes>"
      ]
     },
     "metadata": {},
     "output_type": "display_data"
    }
   ],
   "source": [
    "# Create a simple plot, without the semi-colon\n",
    "plt.plot()"
   ]
  },
  {
   "cell_type": "code",
   "execution_count": 4,
   "metadata": {},
   "outputs": [
    {
     "data": {
      "image/png": "[encoded data removed]",
      "text/plain": [
       "<Figure size 640x480 with 1 Axes>"
      ]
     },
     "metadata": {},
     "output_type": "display_data"
    }
   ],
   "source": [
    "# With the semi-colon\n",
    "plt.plot();"
   ]
  },
  {
   "cell_type": "code",
   "execution_count": 5,
   "metadata": {},
   "outputs": [
    {
     "data": {
      "image/png": "[encoded data removed]",
      "text/plain": [
       "<Figure size 640x480 with 1 Axes>"
      ]
     },
     "metadata": {},
     "output_type": "display_data"
    }
   ],
   "source": [
    "# You could use plt.show() if you want\n",
    "plt.plot()\n",
    "plt.show()"
   ]
  },
  {
   "cell_type": "code",
   "execution_count": 6,
   "metadata": {},
   "outputs": [
    {
     "data": {
      "image/png": "[encoded data removed]",
      "text/plain": [
       "<Figure size 640x480 with 1 Axes>"
      ]
     },
     "metadata": {},
     "output_type": "display_data"
    }
   ],
   "source": [
    "# Let's add some data\n",
    "plt.plot([1, 2, 3, 4]);"
   ]
  },
  {
   "cell_type": "code",
   "execution_count": 7,
   "metadata": {},
   "outputs": [],
   "source": [
    "# Create some data\n",
    "x = [1, 2, 3, 4]\n",
    "y = [11, 22, 33, 44]"
   ]
  },
  {
   "cell_type": "markdown",
   "metadata": {},
   "source": [
    "A few quick things about a plot:\n",
    "* `x` is the horizontal axis.\n",
    "* `y` is the vertical axis.\n",
    "* In a data point, `x` usually comes first, e.g. `(3, 4)` would be `(x=3, y=4)`.\n",
    "* The same is happens in [`matplotlib.pyplot.plot()`](https://matplotlib.org/stable/api/_as_gen/matplotlib.pyplot.plot.html), `x` comes before `y`, e.g. `plt.plot(x, y)`."
   ]
  },
  {
   "cell_type": "code",
   "execution_count": 8,
   "metadata": {},
   "outputs": [
    {
     "data": {
      "image/png": "[encoded data removed]",
      "text/plain": [
       "<Figure size 640x480 with 1 Axes>"
      ]
     },
     "metadata": {},
     "output_type": "display_data"
    }
   ],
   "source": [
    "# Now a y-value too!\n",
    "plt.plot(x, y);"
   ]
  },
  {
   "cell_type": "markdown",
   "metadata": {},
   "source": [
    "Now let's try using the object-orientated version.\n",
    "\n",
    "We'll start by creating a figure with `plt.figure()`.\n",
    "\n",
    "And then we'll add an axes with [`add_subplot`](https://matplotlib.org/stable/api/figure_api.html#matplotlib.figure.Figure.add_subplot). "
   ]
  },
  {
   "cell_type": "code",
   "execution_count": 9,
   "metadata": {},
   "outputs": [
    {
     "data": {
      "image/png": "[encoded data removed]",
      "text/plain": [
       "<Figure size 640x480 with 1 Axes>"
      ]
     },
     "metadata": {},
     "output_type": "display_data"
    }
   ],
   "source": [
    "# Creating a plot with the object-orientated verison\n",
    "fig = plt.figure() # create a figure\n",
    "ax = fig.add_subplot() # add an axes \n",
    "plt.show()"
   ]
  },
  {
   "cell_type": "markdown",
   "metadata": {},
   "source": [
    "A note on the terminology:\n",
    "* A **`Figure`** (e.g. `fig = plt.figure()`) is the final image in matplotlib (and it may contain one or more `Axes`), often shortened to `fig`.\n",
    "* The **`Axes`** are an individual plot (e.g. `ax = fig.add_subplot()`), often shorted to `ax`.\n",
    "    * One `Figure` can contain one or more `Axes`.\n",
    "* The **`Axis`** are x (horizontal), y (vertical), z (depth).\n",
    "\n",
    "Now let's add some data to our pevious plot."
   ]
  },
  {
   "cell_type": "code",
   "execution_count": 10,
   "metadata": {},
   "outputs": [
    {
     "data": {
      "image/png": "[encoded data removed]",
      "text/plain": [
       "<Figure size 640x480 with 1 Axes>"
      ]
     },
     "metadata": {},
     "output_type": "display_data"
    }
   ],
   "source": [
    "# Add some data to our previous plot \n",
    "fig = plt.figure()\n",
    "ax = fig.add_axes([1, 1, 1, 1])\n",
    "ax.plot(x, y)\n",
    "plt.show()"
   ]
  },
  {
   "cell_type": "markdown",
   "metadata": {},
   "source": [
    "But there's an easier way we can use `matplotlib.pyplot` to help us create a `Figure` with multiple potential `Axes`.\n",
    "\n",
    "And that's with [`plt.subplots()`](https://matplotlib.org/stable/api/_as_gen/matplotlib.pyplot.subplots.html)."
   ]
  },
  {
   "cell_type": "code",
   "execution_count": 11,
   "metadata": {},
   "outputs": [
    {
     "data": {
      "image/png": "[encoded data removed]",
      "text/plain": [
       "<Figure size 640x480 with 1 Axes>"
      ]
     },
     "metadata": {},
     "output_type": "display_data"
    }
   ],
   "source": [
    "# Create a Figure and multiple potential Axes and add some data\n",
    "fig, ax = plt.subplots()\n",
    "ax.plot(x, y);"
   ]
  },
  {
   "cell_type": "markdown",
   "metadata": {},
   "source": [
    "### Anatomy of a Matplotlib Figure\n",
    "\n",
    "Matplotlib offers almost unlimited options for creating plots.\n",
    "\n",
    "However, let's break down some of the main terms.\n",
    "\n",
    "* **Figure** - The base canvas of all matplotlib plots. The overall thing you're plotting is a Figure, often shortened to `fig`.\n",
    "* **Axes** - One Figure can have one *or* multiple Axes, for example, a Figure with multiple suplots could have 4 Axes (2 rows and 2 columns). Often shortened to `ax`.\n",
    "* **Axis** - A particular dimension of an Axes, for example, the x-axis or y-axis. \n",
    "\n",
    "<img src=\"../images/matplotlib-anatomy-of-a-plot.png\" alt=\"anatomy of a matplotlib plot\" width=\"700\"/>"
   ]
  },
  {
   "cell_type": "code",
   "execution_count": 12,
   "metadata": {},
   "outputs": [
    {
     "data": {
      "text/plain": [
       "(matplotlib.figure.Figure, matplotlib.axes._axes.Axes)"
      ]
     },
     "execution_count": 12,
     "metadata": {},
     "output_type": "execute_result"
    }
   ],
   "source": [
    "# This is where the object orientated name comes from \n",
    "type(fig), type(ax)"
   ]
  },
  {
   "cell_type": "markdown",
   "metadata": {},
   "source": [
    "### A quick Matplotlib Workflow\n",
    "\n",
    "The following workflow is a standard practice when creating a matplotlib plot: \n",
    "\n",
    "0. **Import matplotlib** - For example, `import matplotlib.pyplot as plt`).\n",
    "1. **Prepare data** - This may be from an existing dataset (data analysis) or from the outputs of a machine learning model (data science).\n",
    "2. **Setup the plot** - In other words, create the Figure and various Axes.\n",
    "3. **Plot data to the Axes** - Send the relevant data to the target Axes.\n",
    "4. **Cutomize the plot** - Add a title, decorate the colours, label each Axis.\n",
    "5. **Save (optional) and show** - See what your masterpiece looks like and save it to file if necessary."
   ]
  },
  {
   "cell_type": "code",
   "execution_count": 14,
   "metadata": {},
   "outputs": [
    {
     "data": {
      "image/png": "[encoded data removed]",
      "text/plain": [
       "<Figure size 1000x1000 with 1 Axes>"
      ]
     },
     "metadata": {},
     "output_type": "display_data"
    }
   ],
   "source": [
    "# A matplotlib workflow\n",
    "\n",
    "# 0. Import and get matplotlib ready\n",
    "# %matplotlib inline # Not necessary in newer versions of Jupyter (e.g. 2022 onwards)\n",
    "import matplotlib.pyplot as plt\n",
    "\n",
    "# 1. Prepare data\n",
    "x = [1, 2, 3, 4]\n",
    "y = [11, 22, 33, 44]\n",
    "\n",
    "# 2. Setup plot (Figure and Axes)\n",
    "fig, ax = plt.subplots(figsize=(10,10))\n",
    "\n",
    "# 3. Plot data\n",
    "ax.plot(x, y)\n",
    "\n",
    "# 4. Customize plot\n",
    "ax.set(title=\"Sample Simple Plot\", xlabel=\"x-axis\", ylabel=\"y-axis\")\n",
    "\n",
    "# 5. Save & show\n",
    "fig.savefig(\"./images/simple-plot.png\")"
   ]
  },
  {
   "cell_type": "markdown",
   "metadata": {},
   "source": [
    "## 2. Making the most common type of plots using NumPy arrays\n",
    "\n",
    "Most of figuring out what kind of plot to use is getting a feel for the data, then seeing what kind of plot suits it best.\n",
    "\n",
    "Matplotlib visualizations are built on NumPy arrays. So in this section we'll build some of the most common types of plots using NumPy arrays.\n",
    "\n",
    "- Line plot - [`ax.plot()`](https://matplotlib.org/stable/plot_types/basic/plot.html#sphx-glr-plot-types-basic-plot-py) (this is the default plot in matplotlib)\n",
    "- Scatter plot - [`ax.scatter()`](https://matplotlib.org/stable/plot_types/basic/scatter_plot.html#sphx-glr-plot-types-basic-scatter-plot-py)\n",
    "- Bar plot - [`ax.bar()`](https://matplotlib.org/stable/plot_types/basic/bar.html#sphx-glr-plot-types-basic-bar-py)\n",
    "- Histogram plot - [`ax.hist()`](https://matplotlib.org/stable/plot_types/stats/hist_plot.html#sphx-glr-plot-types-stats-hist-plot-py)\n",
    "\n",
    "We'll see how all of these can be created as a method from [`matplotlob.pyplot.subplots()`](https://matplotlib.org/stable/api/_as_gen/matplotlib.pyplot.subplots.html#matplotlib.pyplot.subplots).\n",
    "\n",
    "> **Resource:** Remember you can [see many of the different kinds of matplotlib plot types](https://matplotlib.org/stable/plot_types/index.html) in the documentation.\n",
    "\n",
    "To make sure we have access to NumPy, we'll import it as `np`.\n"
   ]
  },
  {
   "cell_type": "code",
   "execution_count": 16,
   "metadata": {},
   "outputs": [],
   "source": [
    "import numpy as np"
   ]
  },
  {
   "cell_type": "markdown",
   "metadata": {},
   "source": [
    "### Creating a line plot\n",
    "\n",
    "Line is the default type of visualization in Matplotlib. Usually, unless specified otherwise, your plots will start out as lines.\n",
    "\n",
    "Line plots are great for seeing trends over time."
   ]
  },
  {
   "cell_type": "code",
   "execution_count": 17,
   "metadata": {},
   "outputs": [
    {
     "data": {
      "text/plain": [
       "array([0.        , 0.1010101 , 0.2020202 , 0.3030303 , 0.4040404 ,\n",
       "       0.50505051, 0.60606061, 0.70707071, 0.80808081, 0.90909091])"
      ]
     },
     "execution_count": 17,
     "metadata": {},
     "output_type": "execute_result"
    }
   ],
   "source": [
    "# Create an array\n",
    "x = np.linspace(0, 10, 100)\n",
    "x[:10]"
   ]
  },
  {
   "cell_type": "code",
   "execution_count": 18,
   "metadata": {},
   "outputs": [
    {
     "data": {
      "image/png": "[encoded data removed]",
      "text/plain": [
       "<Figure size 640x480 with 1 Axes>"
      ]
     },
     "metadata": {},
     "output_type": "display_data"
    }
   ],
   "source": [
    "# The default plot is line\n",
    "fig, ax = plt.subplots()\n",
    "ax.plot(x, x**2);"
   ]
  },
  {
   "cell_type": "markdown",
   "metadata": {},
   "source": [
    "### Creating a scatter plot\n",
    "\n",
    "Scatter plots can be great for when you've got many different individual data points and you'd like to see how they interact with eachother without being connected. "
   ]
  },
  {
   "cell_type": "code",
   "execution_count": null,
   "metadata": {},
   "outputs": [],
   "source": [
    "# Need to recreate our figure and axis instances when we want a new figure\n",
    "fig, ax = plt.subplots()\n",
    "ax.scatter(x, np.exp(x));"
   ]
  },
  {
   "cell_type": "code",
   "execution_count": null,
   "metadata": {},
   "outputs": [],
   "source": [
    "fig, ax = plt.subplots()\n",
    "ax.scatter(x, np.sin(x));"
   ]
  },
  {
   "cell_type": "markdown",
   "metadata": {},
   "source": [
    "### Creating bar plots\n",
    "\n",
    "Bar plots are great to visualize different amounts of similar themed items.\n",
    "\n",
    "For example, the sales of items at a Nut Butter Store.\n",
    "\n",
    "You can create **vertical** bar plots with [`ax.bar()`](https://matplotlib.org/stable/plot_types/basic/bar.html#sphx-glr-plot-types-basic-bar-py) and **horizontal** bar plots with [`ax.barh()`](https://matplotlib.org/stable/api/_as_gen/matplotlib.pyplot.barh.html)."
   ]
  },
  {
   "cell_type": "code",
   "execution_count": 20,
   "metadata": {},
   "outputs": [
    {
     "data": {
      "image/png": "[encoded data removed]",
      "text/plain": [
       "<Figure size 640x480 with 1 Axes>"
      ]
     },
     "metadata": {},
     "output_type": "display_data"
    }
   ],
   "source": [
    "# You can make plots from a dictionary\n",
    "nut_butter_prices = {\"Almond butter\": 10,\n",
    "                     \"Peanut butter\": 8,\n",
    "                     \"Cashew butter\": 12}\n",
    "fig, ax = plt.subplots()\n",
    "ax.bar(nut_butter_prices.keys(), nut_butter_prices.values())\n",
    "ax.set(title=\"Dan's Nut Butter Store\", ylabel=\"Price ($)\");"
   ]
  },
  {
   "cell_type": "code",
   "execution_count": null,
   "metadata": {},
   "outputs": [],
   "source": [
    "fig, ax = plt.subplots()\n",
    "ax.barh(list(nut_butter_prices.keys()), list(nut_butter_prices.values()));"
   ]
  },
  {
   "cell_type": "markdown",
   "metadata": {},
   "source": [
    "### Creating a histogram plot\n",
    "\n",
    "Histogram plots are excellent for showing the distribution of data.\n",
    "\n",
    "For example, you might want to show the distribution of ages of a population or wages of city."
   ]
  },
  {
   "cell_type": "code",
   "execution_count": null,
   "metadata": {},
   "outputs": [],
   "source": [
    "# Make some data from a normal distribution\n",
    "x = np.random.randn(1000) # pulls data from a normal distribution\n",
    "\n",
    "fig, ax = plt.subplots()\n",
    "ax.hist(x);"
   ]
  },
  {
   "cell_type": "code",
   "execution_count": null,
   "metadata": {},
   "outputs": [],
   "source": [
    "x = np.random.random(1000) # random data from random distribution\n",
    "\n",
    "fig, ax = plt.subplots()\n",
    "ax.hist(x);"
   ]
  },
  {
   "cell_type": "markdown",
   "metadata": {},
   "source": [
    "### Creating Figures with multiple Axes with Subplots\n",
    "\n",
    "Subplots allow you to create multiple Axes on the same Figure (multiple plots within the same plot).\n",
    "\n",
    "Subplots are helpful because you start with one plot per Figure but scale it up to more when necessary.\n",
    "\n",
    "For example, let's create a subplot that shows many of the above datasets on the same Figure.\n",
    "\n",
    "We can do so by creating multiple Axes with [`plt.subplots()`](https://matplotlib.org/stable/api/_as_gen/matplotlib.pyplot.subplots.html#matplotlib.pyplot.subplots) and setting the `nrows` (number of rows) and `ncols` (number of columns) parameters to reflect how many Axes we'd like.\n",
    "\n",
    "`nrows` and `ncols` parameters are multiplicative, meaning `plt.subplots(nrows=2, ncols=2)` will create `2*2=4` total Axes. \n",
    "\n",
    "> **Resource:** You can see a [sensational number of examples](https://matplotlib.org/stable/gallery/index.html#subplots-axes-and-figures) for creating Subplots in the matplotlib documentation. "
   ]
  },
  {
   "cell_type": "code",
   "execution_count": 21,
   "metadata": {},
   "outputs": [
    {
     "data": {
      "image/png": "[encoded data removed]",
      "text/plain": [
       "<Figure size 1000x500 with 4 Axes>"
      ]
     },
     "metadata": {},
     "output_type": "display_data"
    }
   ],
   "source": [
    "# Option 1: Create 4 subplots with each Axes having its own variable name\n",
    "fig, ((ax1, ax2), (ax3, ax4)) = plt.subplots(nrows=2, \n",
    "                                             ncols=2, \n",
    "                                             figsize=(10, 5))\n",
    "\n",
    "# Plot data to each axis\n",
    "ax1.plot(x, x/2);\n",
    "ax2.scatter(np.random.random(10), np.random.random(10));\n",
    "ax3.bar(nut_butter_prices.keys(), nut_butter_prices.values());\n",
    "ax4.hist(np.random.randn(1000));"
   ]
  },
  {
   "cell_type": "code",
   "execution_count": null,
   "metadata": {},
   "outputs": [],
   "source": [
    "# Option 2: Create 4 subplots with a single ax variable\n",
    "fig, ax = plt.subplots(nrows=2, ncols=2, figsize=(10, 5))\n",
    "\n",
    "# Index the ax variable to plot data\n",
    "ax[0, 0].plot(x, x/2);\n",
    "ax[0, 1].scatter(np.random.random(10), np.random.random(10));\n",
    "ax[1, 0].bar(nut_butter_prices.keys(), nut_butter_prices.values());\n",
    "ax[1, 1].hist(np.random.randn(1000));"
   ]
  },
  {
   "cell_type": "markdown",
   "metadata": {},
   "source": [
    "## 3. Plotting data directly with pandas\n",
    "\n",
    "Matplotlib has a tight integration with pandas too.\n",
    "\n",
    "You can directly plot from a pandas DataFrame with [`DataFrame.plot()`](https://pandas.pydata.org/pandas-docs/stable/reference/api/pandas.DataFrame.plot.html#pandas.DataFrame.plot).\n",
    "\n",
    "Let's see the following plots directly from a pandas DataFrame:\n",
    "\n",
    "* Line\n",
    "* Scatter\n",
    "* Bar\n",
    "* Hist\n",
    "\n",
    "To plot data with pandas, we first have to import it as `pd`."
   ]
  },
  {
   "cell_type": "code",
   "execution_count": 22,
   "metadata": {},
   "outputs": [],
   "source": [
    "import pandas as pd"
   ]
  },
  {
   "cell_type": "markdown",
   "metadata": {},
   "source": [
    "Now we need some data to check out."
   ]
  },
  {
   "cell_type": "code",
   "execution_count": null,
   "metadata": {},
   "outputs": [],
   "source": [
    "# Let's import the car_sales dataset\n",
    "car_sales = pd.read_csv(\"../data/car-sales.csv\")\n",
    "car_sales"
   ]
  },
  {
   "cell_type": "markdown",
   "metadata": {},
   "source": [
    "### Line plot from a pandas DataFrame\n",
    "\n",
    "To understand examples, I often find I have to repeat them (code them myself) rather than just read them.\n",
    "\n",
    "To begin understanding plotting with pandas, let's recreate the a section of the [pandas Chart visualization documents](https://pandas.pydata.org/pandas-docs/stable/user_guide/visualization.html)."
   ]
  },
  {
   "cell_type": "code",
   "execution_count": null,
   "metadata": {},
   "outputs": [],
   "source": [
    "# Start with some dummy data\n",
    "ts = pd.Series(np.random.randn(1000),\n",
    "               index=pd.date_range('1/1/2024', periods=1000))\n",
    "\n",
    "# Note: ts = short for time series (data over time)\n",
    "ts"
   ]
  },
  {
   "cell_type": "markdown",
   "metadata": {},
   "source": [
    "Great! We've got some random values across time.\n",
    "\n",
    "Now let's add up the data cumulatively overtime with [`DataFrame.cumsum()`](https://pandas.pydata.org/docs/reference/api/pandas.DataFrame.cumsum.html) (`cumsum` is short for cumulative sum or continaully adding one thing to the next and so on). "
   ]
  },
  {
   "cell_type": "code",
   "execution_count": null,
   "metadata": {},
   "outputs": [],
   "source": [
    "# Add up the values cumulatively\n",
    "ts.cumsum()"
   ]
  },
  {
   "cell_type": "markdown",
   "metadata": {},
   "source": [
    "We can now visualize the values by calling the `plot()` method on the DataFrame and specifying the kind of plot we'd like with the `kind` parameter.\n",
    "\n",
    "In our case, the kind we'd like is a line plot, hence `kind=\"line\"` (this is the default for the `plot()` method)."
   ]
  },
  {
   "cell_type": "code",
   "execution_count": null,
   "metadata": {},
   "outputs": [],
   "source": [
    "# Plot the values over time with a line plot (note: both of these will return the same thing)\n",
    "# ts.cumsum().plot() # kind=\"line\" is set by default\n",
    "ts.cumsum().plot(kind=\"line\");"
   ]
  },
  {
   "cell_type": "markdown",
   "metadata": {},
   "source": [
    "### Working with actual data\n",
    "\n",
    "Let's do a little data manipulation on our `car_sales` DataFrame."
   ]
  },
  {
   "cell_type": "code",
   "execution_count": null,
   "metadata": {},
   "outputs": [],
   "source": [
    "# Import the car sales data \n",
    "car_sales = pd.read_csv(\"../data/car-sales.csv\")\n",
    "\n",
    "# Remove price column symbols\n",
    "car_sales[\"Price\"] = car_sales[\"Price\"].str.replace('[\\$\\,\\.]', '', \n",
    "                                                    regex=True) # Tell pandas to replace using regex\n",
    "car_sales"
   ]
  },
  {
   "cell_type": "code",
   "execution_count": null,
   "metadata": {},
   "outputs": [],
   "source": [
    "# Remove last two zeros\n",
    "car_sales[\"Price\"] = car_sales[\"Price\"].str[:-2]\n",
    "car_sales"
   ]
  },
  {
   "cell_type": "code",
   "execution_count": null,
   "metadata": {},
   "outputs": [],
   "source": [
    "# Add a date column\n",
    "car_sales[\"Sale Date\"] = pd.date_range(\"1/1/2024\", periods=len(car_sales))\n",
    "car_sales"
   ]
  },
  {
   "cell_type": "code",
   "execution_count": null,
   "metadata": {},
   "outputs": [],
   "source": [
    "# Make total sales column (doesn't work, adds as string)\n",
    "#car_sales[\"Total Sales\"] = car_sales[\"Price\"].cumsum()\n",
    "\n",
    "# Oops... want them as int's not string\n",
    "car_sales[\"Total Sales\"] = car_sales[\"Price\"].astype(int).cumsum()\n",
    "car_sales"
   ]
  },
  {
   "cell_type": "code",
   "execution_count": null,
   "metadata": {},
   "outputs": [],
   "source": [
    "car_sales.plot(x='Sale Date', y='Total Sales');"
   ]
  },
  {
   "cell_type": "markdown",
   "metadata": {},
   "source": [
    "### Scatter plot from a pandas DataFrame\n",
    "\n",
    "You can create scatter plots from a pandas DataFrame by using the `kind=\"scatter\"` parameter.\n",
    "\n",
    "However, you'll often find that certain plots require certain kinds of data (e.g. some plots require certain columns to be numeric)."
   ]
  },
  {
   "cell_type": "code",
   "execution_count": null,
   "metadata": {},
   "outputs": [],
   "source": [
    "# Note: In previous versions of matplotlib and pandas, have the \"Price\" column as a string would\n",
    "# return an error\n",
    "car_sales[\"Price\"] = car_sales[\"Price\"].astype(str)\n",
    "\n",
    "# Plot a scatter plot\n",
    "car_sales.plot(x=\"Odometer (KM)\", y=\"Price\", kind=\"scatter\");"
   ]
  },
  {
   "cell_type": "markdown",
   "metadata": {},
   "source": [
    "Having the `Price` column as an `int` returns a much better looking y-axis. "
   ]
  },
  {
   "cell_type": "code",
   "execution_count": null,
   "metadata": {},
   "outputs": [],
   "source": [
    "# Convert Price to int\n",
    "car_sales[\"Price\"] = car_sales[\"Price\"].astype(int)\n",
    "\n",
    "# Plot a scatter plot\n",
    "car_sales.plot(x=\"Odometer (KM)\", y=\"Price\", kind='scatter');"
   ]
  },
  {
   "cell_type": "markdown",
   "metadata": {},
   "source": [
    "### Bar plot from a pandas DataFrame\n",
    "\n",
    "Let's see how we can plot a bar plot from a pandas DataFrame.\n",
    "\n",
    "First, we'll create some data."
   ]
  },
  {
   "cell_type": "code",
   "execution_count": null,
   "metadata": {},
   "outputs": [],
   "source": [
    "# Create 10 random samples across 4 columns\n",
    "x = np.random.rand(10, 4)\n",
    "x"
   ]
  },
  {
   "cell_type": "code",
   "execution_count": null,
   "metadata": {},
   "outputs": [],
   "source": [
    "# Turn the data into a DataFrame\n",
    "df = pd.DataFrame(x, columns=['a', 'b', 'c', 'd'])\n",
    "df"
   ]
  },
  {
   "cell_type": "markdown",
   "metadata": {},
   "source": [
    "We can plot a bar chart directly with the [`bar()`](https://pandas.pydata.org/docs/reference/api/pandas.DataFrame.plot.bar.html) method on the DataFrame."
   ]
  },
  {
   "cell_type": "code",
   "execution_count": null,
   "metadata": {},
   "outputs": [],
   "source": [
    "# Plot a bar chart\n",
    "df.plot.bar();"
   ]
  },
  {
   "cell_type": "markdown",
   "metadata": {},
   "source": [
    "And we can also do the same thing passing the `kind=\"bar\"` parameter to `DataFrame.plot()`."
   ]
  },
  {
   "cell_type": "code",
   "execution_count": null,
   "metadata": {},
   "outputs": [],
   "source": [
    "# Plot a bar chart with the kind parameter\n",
    "df.plot(kind='bar');"
   ]
  },
  {
   "cell_type": "markdown",
   "metadata": {},
   "source": [
    "Let's try a bar plot on the `car_sales` DataFrame.\n",
    "\n",
    "This time we'll specify the `x` and `y` axis values."
   ]
  },
  {
   "cell_type": "code",
   "execution_count": null,
   "metadata": {},
   "outputs": [],
   "source": [
    "# Plot a bar chart from car_sales DataFrame\n",
    "car_sales.plot(x=\"Make\", \n",
    "               y=\"Odometer (KM)\", \n",
    "               kind=\"bar\");"
   ]
  },
  {
   "cell_type": "markdown",
   "metadata": {},
   "source": [
    "### Histogram plot from a pandas DataFrame\n",
    "\n",
    "We can plot a histogram plot from our `car_sales` DataFrame using [`DataFrame.plot.hist()`](https://pandas.pydata.org/docs/reference/api/pandas.DataFrame.plot.hist.html) or `DataFrame.plot(kind=\"hist\")`.\n",
    "\n",
    "Histograms are great for seeing the distribution or the spread of data."
   ]
  },
  {
   "cell_type": "code",
   "execution_count": null,
   "metadata": {},
   "outputs": [],
   "source": [
    "car_sales[\"Odometer (KM)\"].plot.hist();"
   ]
  },
  {
   "cell_type": "code",
   "execution_count": null,
   "metadata": {},
   "outputs": [],
   "source": [
    "car_sales[\"Odometer (KM)\"].plot(kind=\"hist\");"
   ]
  },
  {
   "cell_type": "markdown",
   "metadata": {},
   "source": [
    "Changing the `bins` parameter we can put our data into different numbers of collections.\n",
    "\n",
    "For example, by default `bins=10` (10 groups of data), let's see what happens when we change it to `bins=20`."
   ]
  },
  {
   "cell_type": "code",
   "execution_count": null,
   "metadata": {},
   "outputs": [],
   "source": [
    "# Default number of bins is 10 \n",
    "car_sales[\"Odometer (KM)\"].plot.hist(bins=20);"
   ]
  },
  {
   "cell_type": "markdown",
   "metadata": {},
   "source": [
    "To practice, let's create a histogram of the `Price` column. "
   ]
  },
  {
   "cell_type": "code",
   "execution_count": null,
   "metadata": {},
   "outputs": [],
   "source": [
    "# Create a histogram of the Price column\n",
    "car_sales[\"Price\"].plot.hist(bins=10);"
   ]
  },
  {
   "cell_type": "markdown",
   "metadata": {},
   "source": [
    "And to practice even further, how about we try another dataset?\n",
    "\n",
    "Namely, let's create some plots using the heart disease dataset we've worked on before."
   ]
  },
  {
   "cell_type": "code",
   "execution_count": null,
   "metadata": {},
   "outputs": [],
   "source": [
    "# Import the heart disease dataset\n",
    "heart_disease = pd.read_csv(\"../data/heart-disease.csv\")\n",
    "heart_disease.head()"
   ]
  },
  {
   "cell_type": "code",
   "execution_count": null,
   "metadata": {},
   "outputs": [],
   "source": [
    "# Create a histogram of the age column\n",
    "heart_disease[\"age\"].plot.hist(bins=50);"
   ]
  },
  {
   "cell_type": "markdown",
   "metadata": {},
   "source": [
    "What does this tell you about the spread of heart disease data across different ages?"
   ]
  },
  {
   "cell_type": "markdown",
   "metadata": {},
   "source": [
    "### Creating a plot with multiple Axes from a pandas DataFrame\n",
    "\n",
    "We can also create a series of plots (multiple Axes on one Figure) from a DataFrame using the `subplots=True` parameter.\n",
    "\n",
    "First, let's remind ourselves what the data looks like."
   ]
  },
  {
   "cell_type": "code",
   "execution_count": null,
   "metadata": {},
   "outputs": [],
   "source": [
    "# Inspect the data\n",
    "heart_disease.head()"
   ]
  },
  {
   "cell_type": "markdown",
   "metadata": {},
   "source": [
    "Since all of our columns are numeric in value, let's try and create a histogram of each column."
   ]
  },
  {
   "cell_type": "code",
   "execution_count": null,
   "metadata": {},
   "outputs": [],
   "source": [
    "heart_disease.plot.hist(figsize=(5, 20), \n",
    "                        subplots=True);"
   ]
  },
  {
   "cell_type": "markdown",
   "metadata": {},
   "source": [
    "Hmmm... is this a very helpful plot?\n",
    "\n",
    "Perhaps not.\n",
    "\n",
    "Sometimes you can visualize too much on the one plot and it becomes confusing.\n",
    "\n",
    "Best to start with less and gradually increase."
   ]
  },
  {
   "cell_type": "markdown",
   "metadata": {},
   "source": [
    "## 4. Plotting more advanced plots from a pandas DataFrame \n",
    "\n",
    "\n",
    "It's possible to achieve far more complicated and detailed plots from a pandas DataFrame.\n",
    "\n",
    "Let's practice using the `heart_disease` DataFrame. \n",
    "\n",
    "And as an example, let's do some analysis on people over 50 years of age.\n",
    "\n",
    "To do so, let's start by creating a plot directly from pandas and then using the object-orientated API (`plt.subplots()`) to build upon it."
   ]
  },
  {
   "cell_type": "code",
   "execution_count": null,
   "metadata": {},
   "outputs": [],
   "source": [
    "# Perform data analysis on patients over 50\n",
    "over_50 = heart_disease[heart_disease[\"age\"] > 50]\n",
    "over_50"
   ]
  },
  {
   "cell_type": "markdown",
   "metadata": {},
   "source": [
    "Now let's create a scatter plot directly from the pandas DataFrame.\n",
    "\n",
    "This is quite easy to do but is a bit limited in terms of customization.\n",
    "\n",
    "Let's visualize patients over 50 cholesterol levels.\n",
    "\n",
    "We can visualize which patients have or don't have heart disease by colouring the samples to be in line with the `target` column (e.g. `0` = no heart disease, `1` = heart disease)."
   ]
  },
  {
   "cell_type": "code",
   "execution_count": null,
   "metadata": {},
   "outputs": [],
   "source": [
    "# Create a scatter plot directly from the pandas DataFrame\n",
    "over_50.plot(kind=\"scatter\",\n",
    "             x=\"age\", \n",
    "             y=\"chol\", \n",
    "             c=\"target\", # colour the dots by target value\n",
    "             figsize=(10, 6));"
   ]
  },
  {
   "cell_type": "markdown",
   "metadata": {},
   "source": [
    "We can recreate the same plot using `plt.subplots()` and then passing the Axes variable (`ax`) to the pandas `plot()` method."
   ]
  },
  {
   "cell_type": "code",
   "execution_count": null,
   "metadata": {},
   "outputs": [],
   "source": [
    "# Create a Figure and Axes instance\n",
    "fig, ax = plt.subplots(figsize=(10, 6))\n",
    "\n",
    "# Plot data from the DataFrame to the ax object\n",
    "over_50.plot(kind=\"scatter\", \n",
    "             x=\"age\", \n",
    "             y=\"chol\", \n",
    "             c=\"target\", \n",
    "             ax=ax); # set the target Axes\n",
    "\n",
    "# Customize the x-axis limits (to be within our target age ranges)\n",
    "ax.set_xlim([45, 100]);"
   ]
  },
  {
   "cell_type": "markdown",
   "metadata": {},
   "source": [
    "Now instead of plotting directly from the pandas DataFrame, we can make a bit more of a comprehensive plot by plotting data directly to a target Axes instance."
   ]
  },
  {
   "cell_type": "code",
   "execution_count": null,
   "metadata": {},
   "outputs": [],
   "source": [
    "# Create Figure and Axes instance\n",
    "fig, ax = plt.subplots(figsize=(10, 6))\n",
    "\n",
    "# Plot data directly to the Axes intance\n",
    "scatter = ax.scatter(over_50[\"age\"], \n",
    "                     over_50[\"chol\"], \n",
    "                     c=over_50[\"target\"]) # Colour the data with the \"target\" column\n",
    "\n",
    "# Customize the plot parameters \n",
    "ax.set(title=\"Heart Disease and Cholesterol Levels\",\n",
    "       xlabel=\"Age\",\n",
    "       ylabel=\"Cholesterol\");\n",
    "\n",
    "# Setup the legend\n",
    "ax.legend(*scatter.legend_elements(), \n",
    "          title=\"Target\");"
   ]
  },
  {
   "cell_type": "markdown",
   "metadata": {},
   "source": [
    "What if we wanted a horizontal line going across with the mean of `heart_disease[\"chol\"]`?\n",
    "\n",
    "We do so with the [`Axes.axhline()`](https://matplotlib.org/stable/api/_as_gen/matplotlib.axes.Axes.axhline.html) method."
   ]
  },
  {
   "cell_type": "code",
   "execution_count": null,
   "metadata": {},
   "outputs": [],
   "source": [
    "# Create the plot\n",
    "fig, ax = plt.subplots(figsize=(10, 6))\n",
    "\n",
    "# Plot the data\n",
    "scatter = ax.scatter(over_50[\"age\"], \n",
    "                     over_50[\"chol\"], \n",
    "                     c=over_50[\"target\"])\n",
    "\n",
    "# Customize the plot\n",
    "ax.set(title=\"Heart Disease and Cholesterol Levels\",\n",
    "       xlabel=\"Age\",\n",
    "       ylabel=\"Cholesterol\");\n",
    "\n",
    "# Add a legned\n",
    "ax.legend(*scatter.legend_elements(), \n",
    "          title=\"Target\")\n",
    "\n",
    "# Add a meanline\n",
    "ax.axhline(over_50[\"chol\"].mean(),\n",
    "           linestyle=\"--\"); # style the line to make it look nice"
   ]
  },
  {
   "cell_type": "markdown",
   "metadata": {},
   "source": [
    "### Plotting multiple plots on the same figure (adding another plot to an existing one)\n",
    "\n",
    "Sometimes you'll want to visualize multiple features of a dataset or results of a model in one Figure.\n",
    "\n",
    "You can achieve this by adding data to multiple Axes on the same Figure.\n",
    "\n",
    "The [`plt.subplots()`](https://matplotlib.org/stable/api/_as_gen/matplotlib.pyplot.subplots.html) method helps you create Figures with a desired number of Axes in a desired figuration.\n",
    "\n",
    "Using `nrows` (number of rows) and `ncols` (number of columns) parameters you can control the number of Axes on the Figure.\n",
    "\n",
    "For example:\n",
    "* `nrows=2`, `ncols=1` = 2x1 = a Figure with 2 Axes\n",
    "* `nrows=5`, `ncols=5` = 5x5 = a Figure with 25 Axes\n",
    "\n",
    "Let's create a plot with 2 Axes.\n",
    "\n",
    "One the first Axes (Axes 0), we'll plot heart disease against cholesterol levels (`chol`).\n",
    "\n",
    "On the second Axes (Axis 1), we'll plot heart disease against max heart rate levels (`thalach`)."
   ]
  },
  {
   "cell_type": "code",
   "execution_count": null,
   "metadata": {},
   "outputs": [],
   "source": [
    "# Setup plot (2 rows, 1 column)\n",
    "fig, (ax0, ax1) = plt.subplots(nrows=2, # 2 rows\n",
    "                               ncols=1, # 1 column \n",
    "                               sharex=True, # both plots should use the same x-axis \n",
    "                               figsize=(10, 8))\n",
    "\n",
    "# ---------- Axis 0: Heart Disease and Cholesterol Levels ----------\n",
    "\n",
    "# Add data for ax0\n",
    "scatter = ax0.scatter(over_50[\"age\"], \n",
    "                      over_50[\"chol\"], \n",
    "                      c=over_50[\"target\"])\n",
    "# Customize ax0\n",
    "ax0.set(title=\"Heart Disease and Cholesterol Levels\",\n",
    "        ylabel=\"Cholesterol\")\n",
    "ax0.legend(*scatter.legend_elements(), title=\"Target\")\n",
    "\n",
    "# Setup a mean line\n",
    "ax0.axhline(y=over_50[\"chol\"].mean(), \n",
    "            color='b', \n",
    "            linestyle='--', \n",
    "            label=\"Average\")\n",
    "\n",
    "# ---------- Axis 1: Heart Disease and Max Heart Rate Levels ----------\n",
    "\n",
    "# Add data for ax1\n",
    "scatter = ax1.scatter(over_50[\"age\"], \n",
    "                      over_50[\"thalach\"], \n",
    "                      c=over_50[\"target\"])\n",
    "\n",
    "# Customize ax1\n",
    "ax1.set(title=\"Heart Disease and Max Heart Rate Levels\",\n",
    "        xlabel=\"Age\",\n",
    "        ylabel=\"Max Heart Rate\")\n",
    "ax1.legend(*scatter.legend_elements(), title=\"Target\")\n",
    "\n",
    "# Setup a mean line\n",
    "ax1.axhline(y=over_50[\"thalach\"].mean(), \n",
    "            color='b', \n",
    "            linestyle='--', \n",
    "            label=\"Average\")\n",
    "\n",
    "# Title the figure\n",
    "fig.suptitle('Heart Disease Analysis', \n",
    "             fontsize=16, \n",
    "             fontweight='bold');"
   ]
  },
  {
   "cell_type": "markdown",
   "metadata": {},
   "source": [
    "## 5. Customizing your plots (making them look pretty)\n",
    "\n",
    "If you're not a fan of the default matplotlib styling, there are plenty of ways to make your plots look prettier.\n",
    "\n",
    "The more visually appealing your plot, the higher the chance people are going to want to look at them.\n",
    "\n",
    "However, be careful not to overdo the customizations, as they may hinder the information being conveyed.\n",
    "\n",
    "Some of the things you can customize include:\n",
    "\n",
    "* **Axis limits** - The range in which your data is displayed.\n",
    "* **Colors** - That colors appear on the plot to represent different data.\n",
    "* **Overall style** - Matplotlib has several different styles built-in which offer different overall themes for your plots, you can see examples of these in the matplotlib [style sheets reference documentation](https://matplotlib.org/stable/gallery/style_sheets/style_sheets_reference.html).\n",
    "* **Legend** - One of the most informative pieces of information on a Figure can be the legend, you can modify the legend of an Axes with the [`plt.legend()`](https://matplotlib.org/stable/api/_as_gen/matplotlib.pyplot.legend.html#matplotlib.pyplot.legend) method. \n",
    "\n",
    "Let's start by exploring different styles built into matplotlib."
   ]
  },
  {
   "cell_type": "markdown",
   "metadata": {},
   "source": [
    "### Customizing the style of plots\n",
    "\n",
    "Matplotlib comes with several built-in styles that are all created with an overall theme.\n",
    "\n",
    "You can see what styles are available by using [`plt.style.available`](https://matplotlib.org/stable/api/style_api.html#matplotlib.style.available).\n",
    "\n",
    "> **Resources:** \n",
    "> * To see what many of the available styles look like, you can refer to the [matplotlib style sheets reference](https://matplotlib.org/stable/gallery/style_sheets/style_sheets_reference.html) documentation.\n",
    "> * For a deeper guide on customizing, refer to the [Customizing Matplotlib with style sheets and rcParams](https://matplotlib.org/stable/tutorials/introductory/customizing.html) tutorial."
   ]
  },
  {
   "cell_type": "code",
   "execution_count": null,
   "metadata": {},
   "outputs": [],
   "source": [
    "# Check the available styles\n",
    "plt.style.available"
   ]
  },
  {
   "cell_type": "markdown",
   "metadata": {},
   "source": [
    "Before we change the style of a plot, let's remind ourselves what the default plot style looks like. "
   ]
  },
  {
   "cell_type": "code",
   "execution_count": null,
   "metadata": {},
   "outputs": [],
   "source": [
    "# Plot before changing style\n",
    "car_sales[\"Price\"].plot();"
   ]
  },
  {
   "cell_type": "markdown",
   "metadata": {},
   "source": [
    "Wonderful!\n",
    "\n",
    "Now let's change the style of our future plots using the [`plt.style.use(style)`](https://matplotlib.org/stable/api/style_api.html#matplotlib.style.use) method.\n",
    "\n",
    "Where the `style` parameter is one of the available matplotlib styles.\n",
    "\n",
    "How about we try `\"seaborn-v0_8-whitegrid\"` ([seaborn](https://seaborn.pydata.org/) is another common visualization library built on top of matplotlib)? "
   ]
  },
  {
   "cell_type": "code",
   "execution_count": null,
   "metadata": {},
   "outputs": [],
   "source": [
    "# Change the style of our future plots\n",
    "plt.style.use(\"seaborn-v0_8-whitegrid\")"
   ]
  },
  {
   "cell_type": "code",
   "execution_count": null,
   "metadata": {},
   "outputs": [],
   "source": [
    "# Plot the same plot as before\n",
    "car_sales[\"Price\"].plot();"
   ]
  },
  {
   "cell_type": "markdown",
   "metadata": {},
   "source": [
    "Wonderful!\n",
    "\n",
    "Notice the slightly different styling of the plot?\n",
    "\n",
    "Some styles change more than others.\n",
    "\n",
    "How about we try `\"fivethirtyeight\"`?"
   ]
  },
  {
   "cell_type": "code",
   "execution_count": null,
   "metadata": {},
   "outputs": [],
   "source": [
    "# Change the plot style\n",
    "plt.style.use(\"fivethirtyeight\")"
   ]
  },
  {
   "cell_type": "code",
   "execution_count": null,
   "metadata": {},
   "outputs": [],
   "source": [
    "car_sales[\"Price\"].plot();"
   ]
  },
  {
   "cell_type": "markdown",
   "metadata": {},
   "source": [
    "Ohhh that's a nice looking plot!\n",
    "\n",
    "Does the style carry over for another type of plot?\n",
    "\n",
    "How about we try a scatter plot?"
   ]
  },
  {
   "cell_type": "code",
   "execution_count": null,
   "metadata": {},
   "outputs": [],
   "source": [
    "car_sales.plot(x=\"Odometer (KM)\", \n",
    "               y=\"Price\", \n",
    "               kind=\"scatter\");"
   ]
  },
  {
   "cell_type": "markdown",
   "metadata": {},
   "source": [
    "It does!\n",
    "\n",
    "Looks like we may need to adjust the spacing on our x-axis though.\n",
    "\n",
    "What about another style? \n",
    "\n",
    "Let's try `\"ggplot\"`."
   ]
  },
  {
   "cell_type": "code",
   "execution_count": null,
   "metadata": {},
   "outputs": [],
   "source": [
    "# Change the plot style\n",
    "plt.style.use(\"ggplot\")"
   ]
  },
  {
   "cell_type": "code",
   "execution_count": null,
   "metadata": {},
   "outputs": [],
   "source": [
    "car_sales[\"Price\"].plot.hist();"
   ]
  },
  {
   "cell_type": "markdown",
   "metadata": {},
   "source": [
    "Cool! \n",
    "\n",
    "Now how can we go back to the default style?\n",
    "\n",
    "Hint: with `\"default\"`."
   ]
  },
  {
   "cell_type": "code",
   "execution_count": null,
   "metadata": {},
   "outputs": [],
   "source": [
    "# Change the plot style back to the default \n",
    "plt.style.use(\"default\")"
   ]
  },
  {
   "cell_type": "code",
   "execution_count": null,
   "metadata": {},
   "outputs": [],
   "source": [
    "car_sales[\"Price\"].plot.hist();"
   ]
  },
  {
   "cell_type": "markdown",
   "metadata": {},
   "source": [
    "### Customizing the title, legend and axis labels\n",
    "\n",
    "When you have a matplotlib Figure or Axes object, you can customize many of the attributes by using the [`Axes.set()`](https://matplotlib.org/stable/api/_as_gen/matplotlib.axes.Axes.set.html) method.\n",
    "\n",
    "For example, you can change the: \n",
    "* `xlabel` - Labels on the x-axis.\n",
    "* `ylim` - Limits of the y-axis.\n",
    "* `xticks` - Style of the x-ticks.\n",
    "* much more in the [documentation](https://matplotlib.org/stable/api/_as_gen/matplotlib.axes.Axes.set.html).\n",
    "\n",
    "Rather than talking about it, let's practice!\n",
    "\n",
    "First, we'll create some random data and then put it into a DataFrame.\n",
    "\n",
    "Then we'll make a plot from that DataFrame and see how to customize it."
   ]
  },
  {
   "cell_type": "code",
   "execution_count": null,
   "metadata": {},
   "outputs": [],
   "source": [
    "# Create random data\n",
    "x = np.random.randn(10, 4)\n",
    "x"
   ]
  },
  {
   "cell_type": "code",
   "execution_count": null,
   "metadata": {},
   "outputs": [],
   "source": [
    "# Turn data into DataFrame with simple column names\n",
    "df = pd.DataFrame(x, \n",
    "                  columns=['a', 'b', 'c', 'd'])\n",
    "df"
   ]
  },
  {
   "cell_type": "markdown",
   "metadata": {},
   "source": [
    "Now let's plot the data from the DataFrame in a bar chart.\n",
    "\n",
    "This time we'll save the plot to a variable called `ax` (short for Axes)."
   ]
  },
  {
   "cell_type": "code",
   "execution_count": null,
   "metadata": {},
   "outputs": [],
   "source": [
    "# Create a bar plot\n",
    "ax = df.plot(kind=\"bar\")\n",
    "\n",
    "# Check the type of the ax variable\n",
    "type(ax)"
   ]
  },
  {
   "cell_type": "markdown",
   "metadata": {},
   "source": [
    "Excellent!\n",
    "\n",
    "We can see the type of our `ax` variable is of `AxesSubplot` which allows us to use all of the methods available in matplotlib for `Axes`.\n",
    "\n",
    "Let's set a few attributes of the plot with the [`set()`](https://matplotlib.org/stable/api/_as_gen/matplotlib.axes.Axes.set.html) method.\n",
    "\n",
    "Namely, we'll change the `title`, `xlabel` and `ylabel` to communicate what's being displayed."
   ]
  },
  {
   "cell_type": "code",
   "execution_count": null,
   "metadata": {},
   "outputs": [],
   "source": [
    "# Recreate the ax object\n",
    "ax = df.plot(kind=\"bar\")\n",
    "\n",
    "# Set various attributes\n",
    "ax.set(title=\"Random Number Bar Graph from DataFrame\", \n",
    "       xlabel=\"Row number\", \n",
    "       ylabel=\"Random number\");"
   ]
  },
  {
   "cell_type": "markdown",
   "metadata": {},
   "source": [
    "Notice the legend is up in the top left corner by default, we can change that if we like with the `loc` parameter of the [`legend()` method](https://matplotlib.org/stable/api/_as_gen/matplotlib.axes.Axes.legend.html).\n",
    "\n",
    "`loc` can be set as a string to reflect where the legend should be.\n",
    "\n",
    "By default it is set to `loc=\"best\"` which means matplotlib will try to figure out the best positioning for it.\n",
    "\n",
    "Let's try changing it to `\"loc=\"upper right\"`."
   ]
  },
  {
   "cell_type": "code",
   "execution_count": null,
   "metadata": {},
   "outputs": [],
   "source": [
    "# Recreate the ax object\n",
    "ax = df.plot(kind=\"bar\")\n",
    "\n",
    "# Set various attributes\n",
    "ax.set(title=\"Random Number Bar Graph from DataFrame\", \n",
    "       xlabel=\"Row number\", \n",
    "       ylabel=\"Random number\")\n",
    "\n",
    "# Change the legend position\n",
    "ax.legend(loc=\"upper right\");"
   ]
  },
  {
   "cell_type": "markdown",
   "metadata": {},
   "source": [
    "Nice!\n",
    "\n",
    "Is that a better fit?\n",
    "\n",
    "Perhaps not, but it goes to show how you can change the legend position if needed."
   ]
  },
  {
   "cell_type": "markdown",
   "metadata": {},
   "source": [
    "### Customizing the colours of plots with colormaps (cmap)\n",
    "\n",
    "Colour is one of the most important features of a plot.\n",
    "\n",
    "It can help to separate different kinds of information.\n",
    "\n",
    "And with the right colours, plots can be fun to look at and try to learn more.\n",
    "\n",
    "Matplotlib provides many different colour options through [`matplotlib.colormaps`](https://matplotlib.org/stable/api/matplotlib_configuration_api.html#matplotlib.colormaps).\n",
    "\n",
    "Let's see how we can change the colours of a matplotlib plot via the `cmap` parameter (`cmap` is short for `colormaps`).\n",
    "\n",
    "We'll start by creating a scatter plot with the default `cmap` value (`cmap=\"viridis\"`)."
   ]
  },
  {
   "cell_type": "code",
   "execution_count": null,
   "metadata": {},
   "outputs": [],
   "source": [
    "# Setup the Figure and Axes\n",
    "fig, ax = plt.subplots(figsize=(10, 6))\n",
    "\n",
    "# Create a scatter plot with no cmap change (use default colormap)\n",
    "scatter = ax.scatter(over_50[\"age\"], \n",
    "                     over_50[\"chol\"], \n",
    "                     c=over_50[\"target\"],\n",
    "                     cmap=\"viridis\") # default cmap value\n",
    "\n",
    "# Add attributes to the plot\n",
    "ax.set(title=\"Heart Disease and Cholesterol Levels\",\n",
    "       xlabel=\"Age\",\n",
    "       ylabel=\"Cholesterol\");\n",
    "ax.axhline(y=over_50[\"chol\"].mean(), \n",
    "           c='b', \n",
    "           linestyle='--', \n",
    "           label=\"Average\");\n",
    "ax.legend(*scatter.legend_elements(), \n",
    "          title=\"Target\");"
   ]
  },
  {
   "cell_type": "markdown",
   "metadata": {},
   "source": [
    "Wonderful!\n",
    "\n",
    "That plot doesn't look too bad.\n",
    "\n",
    "But what if we wanted to change the colours?\n",
    "\n",
    "There are many different `cmap` parameter options available in the [colormap reference](https://matplotlib.org/stable/gallery/color/colormap_reference.html).\n",
    "\n",
    "How about we try `cmap=\"winter\"`? \n",
    "\n",
    "We can also change the colour of the horizontal line using the `color` parameter and setting it to a string of the colour we'd like (e.g. `color=\"r\"` for red)."
   ]
  },
  {
   "cell_type": "code",
   "execution_count": null,
   "metadata": {},
   "outputs": [],
   "source": [
    "fig, ax = plt.subplots(figsize=(10, 6))\n",
    "\n",
    "# Setup scatter plot with different cmap\n",
    "scatter = ax.scatter(over_50[\"age\"], \n",
    "                     over_50[\"chol\"], \n",
    "                     c=over_50[\"target\"], \n",
    "                     cmap=\"winter\") # Change cmap value \n",
    "\n",
    "# Add attributes to the plot with different color line\n",
    "ax.set(title=\"Heart Disease and Cholesterol Levels\",\n",
    "       xlabel=\"Age\",\n",
    "       ylabel=\"Cholesterol\")\n",
    "ax.axhline(y=over_50[\"chol\"].mean(), \n",
    "           color=\"r\", # Change color of line to \"r\" (for red)\n",
    "           linestyle='--', \n",
    "           label=\"Average\");\n",
    "ax.legend(*scatter.legend_elements(), \n",
    "          title=\"Target\");"
   ]
  },
  {
   "cell_type": "markdown",
   "metadata": {},
   "source": [
    "Woohoo!\n",
    "\n",
    "The first plot looked nice, but I think I prefer the colours of this new plot better.\n",
    "\n",
    "For more on [choosing colormaps in matplotlib](https://matplotlib.org/stable/tutorials/colors/colormaps.html), there's a sensational and in-depth tutorial in the matplotlib documentation. "
   ]
  },
  {
   "cell_type": "markdown",
   "metadata": {},
   "source": [
    "### Customizing the xlim & ylim\n",
    "\n",
    "Matplotlib is pretty good at setting the ranges of values on the x-axis and the y-axis.\n",
    "\n",
    "But as you might've guessed, you can customize these to suit your needs.\n",
    "\n",
    "You can change the ranges of different axis values using the `xlim` and `ylim` parameters inside of the `set()` method.\n",
    "\n",
    "To practice, let's recreate our double Axes plot from before with the default x-axis and y-axis values.\n",
    "\n",
    "We'll add in the colour updates from the previous section too."
   ]
  },
  {
   "cell_type": "code",
   "execution_count": null,
   "metadata": {},
   "outputs": [],
   "source": [
    "# Recreate double Axes plot from above with colour updates \n",
    "fig, (ax0, ax1) = plt.subplots(nrows=2, \n",
    "                               ncols=1, \n",
    "                               sharex=True, \n",
    "                               figsize=(10, 7))\n",
    "\n",
    "# ---------- Axis 0 ----------\n",
    "scatter = ax0.scatter(over_50[\"age\"], \n",
    "                      over_50[\"chol\"], \n",
    "                      c=over_50[\"target\"],\n",
    "                      cmap=\"winter\")\n",
    "ax0.set(title=\"Heart Disease and Cholesterol Levels\",\n",
    "        ylabel=\"Cholesterol\")\n",
    "\n",
    "# Setup a mean line\n",
    "ax0.axhline(y=over_50[\"chol\"].mean(), \n",
    "            color=\"r\", \n",
    "            linestyle=\"--\", \n",
    "            label=\"Average\");\n",
    "ax0.legend(*scatter.legend_elements(), title=\"Target\")\n",
    "\n",
    "# ---------- Axis 1 ----------\n",
    "scatter = ax1.scatter(over_50[\"age\"], \n",
    "                      over_50[\"thalach\"], \n",
    "                      c=over_50[\"target\"],\n",
    "                      cmap=\"winter\")\n",
    "ax1.set(title=\"Heart Disease and Max Heart Rate Levels\",\n",
    "        xlabel=\"Age\",\n",
    "        ylabel=\"Max Heart Rate\")\n",
    "\n",
    "# Setup a mean line\n",
    "ax1.axhline(y=over_50[\"thalach\"].mean(), \n",
    "            color=\"r\", \n",
    "            linestyle=\"--\", \n",
    "            label=\"Average\");\n",
    "ax1.legend(*scatter.legend_elements(), \n",
    "           title=\"Target\")\n",
    "\n",
    "# Title the figure\n",
    "fig.suptitle(\"Heart Disease Analysis\", \n",
    "             fontsize=16, \n",
    "             fontweight=\"bold\");"
   ]
  },
  {
   "cell_type": "markdown",
   "metadata": {},
   "source": [
    "Now let's recreate the plot from above but this time we'll change the axis limits.\n",
    "\n",
    "We can do so by using [`Axes.set(xlim=[50, 80])`](https://matplotlib.org/stable/api/_as_gen/matplotlib.axes.Axes.set.html) or `Axes.set(ylim=[60, 220])` where the inputs to `xlim` and `ylim` are a list of integers defining a range of values.\n",
    "\n",
    "For example, `xlim=[50, 80]` will set the x-axis values to start at `50` and end at `80`."
   ]
  },
  {
   "cell_type": "code",
   "execution_count": null,
   "metadata": {},
   "outputs": [],
   "source": [
    "# Recreate the plot from above with custom x and y axis ranges\n",
    "fig, (ax0, ax1) = plt.subplots(nrows=2, \n",
    "                               ncols=1, \n",
    "                               sharex=True, \n",
    "                               figsize=(10, 7))\n",
    "scatter = ax0.scatter(over_50[\"age\"], \n",
    "                      over_50[\"chol\"], \n",
    "                      c=over_50[\"target\"],\n",
    "                      cmap='winter')\n",
    "ax0.set(title=\"Heart Disease and Cholesterol Levels\",\n",
    "        ylabel=\"Cholesterol\",\n",
    "        xlim=[50, 80]) # set the x-axis ranges \n",
    "\n",
    "# Setup a mean line\n",
    "ax0.axhline(y=over_50[\"chol\"].mean(), \n",
    "            color=\"r\", \n",
    "            linestyle=\"--\", \n",
    "            label=\"Average\");\n",
    "ax0.legend(*scatter.legend_elements(), title=\"Target\")\n",
    "\n",
    "# Axis 1, 1 (row 1, column 1)\n",
    "scatter = ax1.scatter(over_50[\"age\"], \n",
    "                      over_50[\"thalach\"], \n",
    "                      c=over_50[\"target\"],\n",
    "                      cmap='winter')\n",
    "ax1.set(title=\"Heart Disease and Max Heart Rate Levels\",\n",
    "        xlabel=\"Age\",\n",
    "        ylabel=\"Max Heart Rate\",\n",
    "        ylim=[60, 220]) # change the y-axis range\n",
    "\n",
    "# Setup a mean line\n",
    "ax1.axhline(y=over_50[\"thalach\"].mean(), \n",
    "            color=\"r\", \n",
    "            linestyle=\"--\", \n",
    "            label=\"Average\");\n",
    "ax1.legend(*scatter.legend_elements(), \n",
    "           title=\"Target\")\n",
    "\n",
    "# Title the figure\n",
    "fig.suptitle(\"Heart Disease Analysis\", \n",
    "             fontsize=16, \n",
    "             fontweight=\"bold\");"
   ]
  },
  {
   "cell_type": "markdown",
   "metadata": {},
   "source": [
    "Now that's a nice looking plot!\n",
    "\n",
    "Let's figure out how we'd save it."
   ]
  },
  {
   "cell_type": "markdown",
   "metadata": {},
   "source": [
    "## 6. Saving plots\n",
    "\n",
    "Once you've got a nice looking plot that you're happy with, the next thing is going to be sharing it with someone else.\n",
    "\n",
    "In a report, blog post, presentation or something similar.\n",
    "\n",
    "You can save matplotlib Figures with [`plt.savefig(fname=\"your_plot_file_name\")`](https://matplotlib.org/stable/api/_as_gen/matplotlib.pyplot.savefig.html) where `fname` is the target filename you'd like to save the plot to.\n",
    "\n",
    "Before we save our plot, let's recreate it."
   ]
  },
  {
   "cell_type": "code",
   "execution_count": null,
   "metadata": {},
   "outputs": [],
   "source": [
    "# Recreate the plot from above with custom x and y axis ranges\n",
    "fig, (ax0, ax1) = plt.subplots(nrows=2, \n",
    "                               ncols=1, \n",
    "                               sharex=True, \n",
    "                               figsize=(10, 7))\n",
    "scatter = ax0.scatter(over_50[\"age\"], \n",
    "                      over_50[\"chol\"], \n",
    "                      c=over_50[\"target\"],\n",
    "                      cmap='winter')\n",
    "ax0.set(title=\"Heart Disease and Cholesterol Levels\",\n",
    "        ylabel=\"Cholesterol\",\n",
    "        xlim=[50, 80]) # set the x-axis ranges \n",
    "\n",
    "# Setup a mean line\n",
    "ax0.axhline(y=over_50[\"chol\"].mean(), \n",
    "            color=\"r\", \n",
    "            linestyle=\"--\", \n",
    "            label=\"Average\");\n",
    "ax0.legend(*scatter.legend_elements(), title=\"Target\")\n",
    "\n",
    "# Axis 1, 1 (row 1, column 1)\n",
    "scatter = ax1.scatter(over_50[\"age\"], \n",
    "                      over_50[\"thalach\"], \n",
    "                      c=over_50[\"target\"],\n",
    "                      cmap='winter')\n",
    "ax1.set(title=\"Heart Disease and Max Heart Rate Levels\",\n",
    "        xlabel=\"Age\",\n",
    "        ylabel=\"Max Heart Rate\",\n",
    "        ylim=[60, 220]) # change the y-axis range\n",
    "\n",
    "# Setup a mean line\n",
    "ax1.axhline(y=over_50[\"thalach\"].mean(), \n",
    "            color=\"r\", \n",
    "            linestyle=\"--\", \n",
    "            label=\"Average\");\n",
    "ax1.legend(*scatter.legend_elements(), \n",
    "           title=\"Target\")\n",
    "\n",
    "# Title the figure\n",
    "fig.suptitle(\"Heart Disease Analysis\", \n",
    "             fontsize=16, \n",
    "             fontweight=\"bold\");"
   ]
  },
  {
   "cell_type": "markdown",
   "metadata": {},
   "source": [
    "Nice!\n",
    "\n",
    "We can save our plots to several different kinds of filetypes.\n",
    "\n",
    "And we can check these filetypes with `fig.canvas.get_supported_filetypes()`."
   ]
  },
  {
   "cell_type": "code",
   "execution_count": null,
   "metadata": {},
   "outputs": [],
   "source": [
    "# Check the supported filetypes\n",
    "fig.canvas.get_supported_filetypes()"
   ]
  },
  {
   "cell_type": "markdown",
   "metadata": {},
   "source": [
    "Image filetypes such as `jpg` and `png` are excellent for blog posts and presentations.\n",
    "\n",
    "Where as the `pgf` or `pdf` filetypes may be better for reports and papers.\n",
    "\n",
    "One last look at our Figure, which is saved to the `fig` variable."
   ]
  },
  {
   "cell_type": "code",
   "execution_count": null,
   "metadata": {},
   "outputs": [],
   "source": [
    "fig"
   ]
  },
  {
   "cell_type": "markdown",
   "metadata": {},
   "source": [
    "Beautiful! \n",
    "\n",
    "Now let's save it to file."
   ]
  },
  {
   "cell_type": "code",
   "execution_count": null,
   "metadata": {},
   "outputs": [],
   "source": [
    "# Save the file\n",
    "fig.savefig(fname=\"../images/heart-disease-analysis.png\",\n",
    "            dpi=100)"
   ]
  },
  {
   "cell_type": "markdown",
   "metadata": {},
   "source": [
    "File saved!\n",
    "\n",
    "Let's try and display it.\n",
    "\n",
    "We can do so with the HTML code:\n",
    "\n",
    "```\n",
    "<img src=\"../images/heart-disease-analysis.png\" alt=\"a plot showing a heart disease analysis comparing the presense of heart disease, cholesterol levels and heart rate on patients over 50/>\n",
    "```\n",
    "\n",
    "And changing the cell below to markdown.\n",
    "\n",
    "> **Note:** Because the plot is highly visual, it's import to make sure there is an `alt=\"some_text_here\"` tag available when displaying the image, as this tag is used to make the plot more accessible to those with visual impairments. For more on [displaying images with HTML](https://developer.mozilla.org/en-US/docs/Learn/HTML/Multimedia_and_embedding/Images_in_HTML), see the Mozzila documentation."
   ]
  },
  {
   "cell_type": "markdown",
   "metadata": {},
   "source": [
    "<img src=\"../images/heart-disease-analysis.png\" width=900/>"
   ]
  },
  {
   "cell_type": "markdown",
   "metadata": {},
   "source": [
    "Finally, if we wanted to start making more and different Figures, we can reset our `fig` variable by creating another plot."
   ]
  },
  {
   "cell_type": "code",
   "execution_count": null,
   "metadata": {},
   "outputs": [],
   "source": [
    "# Resets figure\n",
    "fig, ax = plt.subplots()"
   ]
  },
  {
   "cell_type": "markdown",
   "metadata": {},
   "source": [
    "If you're creating plots and saving them like this often, to save writing excess code, you might put it into a function.\n",
    "\n",
    "A function which follows the Matplotlib workflow."
   ]
  },
  {
   "cell_type": "code",
   "execution_count": null,
   "metadata": {},
   "outputs": [],
   "source": [
    "# Potential matplotlib workflow function\n",
    "\n",
    "def plotting_workflow(data):\n",
    "    # 1. Manipulate data\n",
    "    \n",
    "    # 2. Create plot\n",
    "    \n",
    "    # 3. Plot data\n",
    "    \n",
    "    # 4. Customize plot\n",
    "    \n",
    "    # 5. Save plot\n",
    "    \n",
    "    # 6. Return plot\n",
    "    \n",
    "    return plot"
   ]
  },
  {
   "cell_type": "markdown",
   "metadata": {},
   "source": [
    "## Extra resources\n",
    "\n",
    "We've covered a fair bit here.\n",
    "\n",
    "But really we've only scratched the surface of what's possible with matplotlib.\n",
    "\n",
    "So for more, I'd recommend going through the following:\n",
    "\n",
    "* [Matplotlib quick start guide](https://matplotlib.org/stable/tutorials/introductory/quick_start.html) - Try rewriting all the code in this guide to get familiar with it.\n",
    "* [Matplotlib plot types guide](https://matplotlib.org/stable/plot_types/index.html) - Inside you'll get an idea of just how many kinds of plots are possible with matplotlib.\n",
    "* [Matplotlib lifecycle of a plot guide](https://matplotlib.org/stable/tutorials/introductory/lifecycle.html) - A sensational ground-up walkthrough of the many different things you can do with a plot."
   ]
  }
 ],
 "metadata": {
  "kernelspec": {
   "display_name": "Python 3 (ipykernel)",
   "language": "python",
   "name": "python3"
  },
  "language_info": {
   "codemirror_mode": {
    "name": "ipython",
    "version": 3
   },
   "file_extension": ".py",
   "mimetype": "text/x-python",
   "name": "python",
   "nbconvert_exporter": "python",
   "pygments_lexer": "ipython3",
   "version": "3.10.6"
  }
 },
 "nbformat": 4,
 "nbformat_minor": 4
}
